{
 "cells": [
  {
   "cell_type": "code",
   "execution_count": 1,
   "id": "65fe97f7-50f7-413a-9b47-f9acc51a419d",
   "metadata": {},
   "outputs": [],
   "source": [
    "import pandas as pd"
   ]
  },
  {
   "cell_type": "code",
   "execution_count": 2,
   "id": "ad5e1f0d-7d5c-42df-ac59-23496b8fc406",
   "metadata": {},
   "outputs": [
    {
     "name": "stdout",
     "output_type": "stream",
     "text": [
      "<class 'pandas.core.frame.DataFrame'>\n",
      "RangeIndex: 384 entries, 0 to 383\n",
      "Data columns (total 5 columns):\n",
      " #   Column           Non-Null Count  Dtype  \n",
      "---  ------           --------------  -----  \n",
      " 0   Route of Travel  384 non-null    object \n",
      " 1   Quarter          384 non-null    object \n",
      " 2   Statistic Label  384 non-null    object \n",
      " 3   UNIT             384 non-null    object \n",
      " 4   VALUE            384 non-null    float64\n",
      "dtypes: float64(1), object(4)\n",
      "memory usage: 15.1+ KB\n"
     ]
    },
    {
     "data": {
      "text/plain": [
       "(None,\n",
       "         Route of Travel Quarter  \\\n",
       " 0  All routes of travel  2012Q1   \n",
       " 1  All routes of travel  2012Q1   \n",
       " 2  All routes of travel  2012Q1   \n",
       " 3  All routes of travel  2012Q2   \n",
       " 4  All routes of travel  2012Q2   \n",
       " \n",
       "                                      Statistic Label      UNIT   VALUE  \n",
       " 0         Overseas Trips to Ireland by Non-Residents  Thousand  1167.0  \n",
       " 1                  Overseas Trips by Irish Residents  Thousand  1235.0  \n",
       " 2  Average Length of Stay by Irish Residents on O...    Nights     7.5  \n",
       " 3         Overseas Trips to Ireland by Non-Residents  Thousand  1817.0  \n",
       " 4                  Overseas Trips by Irish Residents  Thousand  1727.0  )"
      ]
     },
     "execution_count": 2,
     "metadata": {},
     "output_type": "execute_result"
    }
   ],
   "source": [
    "data = pd.read_csv(\"TMQ04.20241027T081042.csv\")\n",
    "info = data.info()\n",
    "sample = data.head()\n",
    "\n",
    "info, sample"
   ]
  },
  {
   "cell_type": "code",
   "execution_count": null,
   "id": "8f383901-b9ce-46b2-b4b2-aba0733f61b3",
   "metadata": {},
   "outputs": [],
   "source": []
  }
 ],
 "metadata": {
  "kernelspec": {
   "display_name": "Python 3 (ipykernel)",
   "language": "python",
   "name": "python3"
  },
  "language_info": {
   "codemirror_mode": {
    "name": "ipython",
    "version": 3
   },
   "file_extension": ".py",
   "mimetype": "text/x-python",
   "name": "python",
   "nbconvert_exporter": "python",
   "pygments_lexer": "ipython3",
   "version": "3.12.4"
  }
 },
 "nbformat": 4,
 "nbformat_minor": 5
}
